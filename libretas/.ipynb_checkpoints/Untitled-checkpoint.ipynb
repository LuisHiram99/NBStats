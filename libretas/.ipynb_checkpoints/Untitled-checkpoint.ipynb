{
 "cells": [
  {
   "cell_type": "code",
   "execution_count": null,
   "id": "e2e949b8-fd22-4b40-b7c0-5b54dac90ffa",
   "metadata": {},
   "outputs": [],
   "source": [
    "!pip install kaggle\n",
    "!pip install kagglehub\n",
    "!pip install ipywidgets"
   ]
  },
  {
   "cell_type": "code",
   "execution_count": 13,
   "id": "3b1c69fc-149e-4f08-bdee-8f85a87ed367",
   "metadata": {},
   "outputs": [],
   "source": [
    "import numpy as np\n",
    "import pandas as pd\n",
    "import matplotlib.pyplot as plt\n",
    "import seaborn as sns"
   ]
  },
  {
   "cell_type": "code",
   "execution_count": 2,
   "id": "05a87069-efa0-454d-a675-6e29801a58cc",
   "metadata": {},
   "outputs": [
    {
     "name": "stdout",
     "output_type": "stream",
     "text": [
      "Path to dataset files: /Users/luishernandez/.cache/kagglehub/datasets/wyattowalsh/basketball/versions/231\n"
     ]
    }
   ],
   "source": [
    "import kagglehub\n",
    "\n",
    "# Download latest version\n",
    "path = kagglehub.dataset_download(\"wyattowalsh/basketball\")\n",
    "\n",
    "print(\"Path to dataset files:\", path)"
   ]
  },
  {
   "cell_type": "code",
   "execution_count": 3,
   "id": "8506c9b3-76be-4f4d-9db0-a05ff4f04497",
   "metadata": {},
   "outputs": [],
   "source": [
    "player_info = pd.read_csv(r\"/Users/luishernandez/.cache/kagglehub/datasets/wyattowalsh/basketball/versions/231/csv/common_player_info.csv\")"
   ]
  },
  {
   "cell_type": "code",
   "execution_count": 11,
   "id": "5bfe53ad-9202-4dd6-9be3-ceb82a03b235",
   "metadata": {},
   "outputs": [
    {
     "data": {
      "text/html": [
       "<div>\n",
       "<style scoped>\n",
       "    .dataframe tbody tr th:only-of-type {\n",
       "        vertical-align: middle;\n",
       "    }\n",
       "\n",
       "    .dataframe tbody tr th {\n",
       "        vertical-align: top;\n",
       "    }\n",
       "\n",
       "    .dataframe thead th {\n",
       "        text-align: right;\n",
       "    }\n",
       "</style>\n",
       "<table border=\"1\" class=\"dataframe\">\n",
       "  <thead>\n",
       "    <tr style=\"text-align: right;\">\n",
       "      <th></th>\n",
       "      <th>person_id</th>\n",
       "      <th>first_name</th>\n",
       "      <th>last_name</th>\n",
       "      <th>display_first_last</th>\n",
       "      <th>display_last_comma_first</th>\n",
       "      <th>display_fi_last</th>\n",
       "      <th>player_slug</th>\n",
       "      <th>birthdate</th>\n",
       "      <th>school</th>\n",
       "      <th>country</th>\n",
       "      <th>...</th>\n",
       "      <th>playercode</th>\n",
       "      <th>from_year</th>\n",
       "      <th>to_year</th>\n",
       "      <th>dleague_flag</th>\n",
       "      <th>nba_flag</th>\n",
       "      <th>games_played_flag</th>\n",
       "      <th>draft_year</th>\n",
       "      <th>draft_round</th>\n",
       "      <th>draft_number</th>\n",
       "      <th>greatest_75_flag</th>\n",
       "    </tr>\n",
       "  </thead>\n",
       "  <tbody>\n",
       "    <tr>\n",
       "      <th>0</th>\n",
       "      <td>76001</td>\n",
       "      <td>Alaa</td>\n",
       "      <td>Abdelnaby</td>\n",
       "      <td>Alaa Abdelnaby</td>\n",
       "      <td>Abdelnaby, Alaa</td>\n",
       "      <td>A. Abdelnaby</td>\n",
       "      <td>alaa-abdelnaby</td>\n",
       "      <td>1968-06-24 00:00:00</td>\n",
       "      <td>Duke</td>\n",
       "      <td>USA</td>\n",
       "      <td>...</td>\n",
       "      <td>HISTADD_alaa_abdelnaby</td>\n",
       "      <td>1990.0</td>\n",
       "      <td>1994.0</td>\n",
       "      <td>N</td>\n",
       "      <td>Y</td>\n",
       "      <td>Y</td>\n",
       "      <td>1990</td>\n",
       "      <td>1</td>\n",
       "      <td>25</td>\n",
       "      <td>N</td>\n",
       "    </tr>\n",
       "    <tr>\n",
       "      <th>1</th>\n",
       "      <td>76003</td>\n",
       "      <td>Kareem</td>\n",
       "      <td>Abdul-Jabbar</td>\n",
       "      <td>Kareem Abdul-Jabbar</td>\n",
       "      <td>Abdul-Jabbar, Kareem</td>\n",
       "      <td>K. Abdul-Jabbar</td>\n",
       "      <td>kareem-abdul-jabbar</td>\n",
       "      <td>1947-04-16 00:00:00</td>\n",
       "      <td>UCLA</td>\n",
       "      <td>USA</td>\n",
       "      <td>...</td>\n",
       "      <td>HISTADD_kareem_abdul-jabbar</td>\n",
       "      <td>1969.0</td>\n",
       "      <td>1988.0</td>\n",
       "      <td>N</td>\n",
       "      <td>Y</td>\n",
       "      <td>Y</td>\n",
       "      <td>1969</td>\n",
       "      <td>1</td>\n",
       "      <td>1</td>\n",
       "      <td>Y</td>\n",
       "    </tr>\n",
       "    <tr>\n",
       "      <th>2</th>\n",
       "      <td>1505</td>\n",
       "      <td>Tariq</td>\n",
       "      <td>Abdul-Wahad</td>\n",
       "      <td>Tariq Abdul-Wahad</td>\n",
       "      <td>Abdul-Wahad, Tariq</td>\n",
       "      <td>T. Abdul-Wahad</td>\n",
       "      <td>tariq-abdul-wahad</td>\n",
       "      <td>1974-11-03 00:00:00</td>\n",
       "      <td>San Jose State</td>\n",
       "      <td>France</td>\n",
       "      <td>...</td>\n",
       "      <td>tariq_abdul-wahad</td>\n",
       "      <td>1997.0</td>\n",
       "      <td>2003.0</td>\n",
       "      <td>N</td>\n",
       "      <td>Y</td>\n",
       "      <td>Y</td>\n",
       "      <td>1997</td>\n",
       "      <td>1</td>\n",
       "      <td>11</td>\n",
       "      <td>N</td>\n",
       "    </tr>\n",
       "    <tr>\n",
       "      <th>3</th>\n",
       "      <td>949</td>\n",
       "      <td>Shareef</td>\n",
       "      <td>Abdur-Rahim</td>\n",
       "      <td>Shareef Abdur-Rahim</td>\n",
       "      <td>Abdur-Rahim, Shareef</td>\n",
       "      <td>S. Abdur-Rahim</td>\n",
       "      <td>shareef-abdur-rahim</td>\n",
       "      <td>1976-12-11 00:00:00</td>\n",
       "      <td>California</td>\n",
       "      <td>USA</td>\n",
       "      <td>...</td>\n",
       "      <td>shareef_abdur-rahim</td>\n",
       "      <td>1996.0</td>\n",
       "      <td>2007.0</td>\n",
       "      <td>N</td>\n",
       "      <td>Y</td>\n",
       "      <td>Y</td>\n",
       "      <td>1996</td>\n",
       "      <td>1</td>\n",
       "      <td>3</td>\n",
       "      <td>N</td>\n",
       "    </tr>\n",
       "    <tr>\n",
       "      <th>4</th>\n",
       "      <td>76005</td>\n",
       "      <td>Tom</td>\n",
       "      <td>Abernethy</td>\n",
       "      <td>Tom Abernethy</td>\n",
       "      <td>Abernethy, Tom</td>\n",
       "      <td>T. Abernethy</td>\n",
       "      <td>tom-abernethy</td>\n",
       "      <td>1954-05-06 00:00:00</td>\n",
       "      <td>Indiana</td>\n",
       "      <td>USA</td>\n",
       "      <td>...</td>\n",
       "      <td>HISTADD_tom_abernethy</td>\n",
       "      <td>1976.0</td>\n",
       "      <td>1980.0</td>\n",
       "      <td>N</td>\n",
       "      <td>Y</td>\n",
       "      <td>Y</td>\n",
       "      <td>1976</td>\n",
       "      <td>3</td>\n",
       "      <td>43</td>\n",
       "      <td>N</td>\n",
       "    </tr>\n",
       "  </tbody>\n",
       "</table>\n",
       "<p>5 rows × 33 columns</p>\n",
       "</div>"
      ],
      "text/plain": [
       "   person_id first_name     last_name   display_first_last  \\\n",
       "0      76001       Alaa     Abdelnaby       Alaa Abdelnaby   \n",
       "1      76003     Kareem  Abdul-Jabbar  Kareem Abdul-Jabbar   \n",
       "2       1505      Tariq   Abdul-Wahad    Tariq Abdul-Wahad   \n",
       "3        949    Shareef   Abdur-Rahim  Shareef Abdur-Rahim   \n",
       "4      76005        Tom     Abernethy        Tom Abernethy   \n",
       "\n",
       "  display_last_comma_first  display_fi_last          player_slug  \\\n",
       "0          Abdelnaby, Alaa     A. Abdelnaby       alaa-abdelnaby   \n",
       "1     Abdul-Jabbar, Kareem  K. Abdul-Jabbar  kareem-abdul-jabbar   \n",
       "2       Abdul-Wahad, Tariq   T. Abdul-Wahad    tariq-abdul-wahad   \n",
       "3     Abdur-Rahim, Shareef   S. Abdur-Rahim  shareef-abdur-rahim   \n",
       "4           Abernethy, Tom     T. Abernethy        tom-abernethy   \n",
       "\n",
       "             birthdate          school country  ...  \\\n",
       "0  1968-06-24 00:00:00            Duke     USA  ...   \n",
       "1  1947-04-16 00:00:00            UCLA     USA  ...   \n",
       "2  1974-11-03 00:00:00  San Jose State  France  ...   \n",
       "3  1976-12-11 00:00:00      California     USA  ...   \n",
       "4  1954-05-06 00:00:00         Indiana     USA  ...   \n",
       "\n",
       "                    playercode from_year  to_year  dleague_flag nba_flag  \\\n",
       "0       HISTADD_alaa_abdelnaby    1990.0   1994.0             N        Y   \n",
       "1  HISTADD_kareem_abdul-jabbar    1969.0   1988.0             N        Y   \n",
       "2            tariq_abdul-wahad    1997.0   2003.0             N        Y   \n",
       "3          shareef_abdur-rahim    1996.0   2007.0             N        Y   \n",
       "4        HISTADD_tom_abernethy    1976.0   1980.0             N        Y   \n",
       "\n",
       "  games_played_flag draft_year draft_round  draft_number greatest_75_flag  \n",
       "0                 Y       1990           1            25                N  \n",
       "1                 Y       1969           1             1                Y  \n",
       "2                 Y       1997           1            11                N  \n",
       "3                 Y       1996           1             3                N  \n",
       "4                 Y       1976           3            43                N  \n",
       "\n",
       "[5 rows x 33 columns]"
      ]
     },
     "execution_count": 11,
     "metadata": {},
     "output_type": "execute_result"
    }
   ],
   "source": [
    "player_info.head()"
   ]
  },
  {
   "cell_type": "code",
   "execution_count": 5,
   "id": "a23a4df3-3c5b-4074-a705-565fb9f0ddec",
   "metadata": {},
   "outputs": [
    {
     "data": {
      "text/plain": [
       "Index(['person_id', 'first_name', 'last_name', 'display_first_last',\n",
       "       'display_last_comma_first', 'display_fi_last', 'player_slug',\n",
       "       'birthdate', 'school', 'country', 'last_affiliation', 'height',\n",
       "       'weight', 'season_exp', 'jersey', 'position', 'rosterstatus',\n",
       "       'games_played_current_season_flag', 'team_id', 'team_name',\n",
       "       'team_abbreviation', 'team_code', 'team_city', 'playercode',\n",
       "       'from_year', 'to_year', 'dleague_flag', 'nba_flag', 'games_played_flag',\n",
       "       'draft_year', 'draft_round', 'draft_number', 'greatest_75_flag'],\n",
       "      dtype='object')"
      ]
     },
     "execution_count": 5,
     "metadata": {},
     "output_type": "execute_result"
    }
   ],
   "source": [
    "player_info.columns"
   ]
  },
  {
   "cell_type": "code",
   "execution_count": 6,
   "id": "0a2a3053-7e03-4c1e-9694-ffa8177f8482",
   "metadata": {},
   "outputs": [
    {
     "name": "stdout",
     "output_type": "stream",
     "text": [
      "1946.0\n",
      "2022.0\n"
     ]
    }
   ],
   "source": [
    "print(player_info[\"from_year\"].min())\n",
    "print(player_info[\"from_year\"].max())"
   ]
  },
  {
   "cell_type": "code",
   "execution_count": 21,
   "id": "c2dd3b29-0328-4fb9-96fd-c942e9cd59ec",
   "metadata": {},
   "outputs": [],
   "source": [
    "def top_programs(df, num, from_year, to_year):\n",
    "    #plt.style.use('fivethirtyeight')\n",
    "    plt.style.use('seaborn-v0_8-whitegrid')\n",
    "    \n",
    "    #Limpieza y segementación de los datos\n",
    "    players = df[[\"school\", \"country\", \"display_first_last\",\"nba_flag\", \"from_year\"]]\n",
    "    players = df.query(\"nba_flag == 'Y'\")\n",
    "    players = df.query(\"from_year >= @from_year and from_year <= @to_year\")\n",
    "\n",
    "    #Número de escuelas que deseamos tomar\n",
    "    school_num = players.groupby(\"school\").size().sort_values(ascending=False)[0:num]\n",
    "    top_schools = list(school_num.index)\n",
    "\n",
    "    print(players[\"school\"].value_counts())\n",
    "\n",
    "    fig, ax = plt.subplots()\n",
    "    colors = plt.cm.viridis(np.linspace(0, 1, len(y)))\n",
    "\n",
    "    bars = ax.bar(top_schools, school_num.values, color=colors, animated=True)\n",
    "    for bar in bars:\n",
    "        yval = bar.get_height()\n",
    "        ax.text(bar.get_x() + bar.get_width() / 2, yval, str(yval), ha='center', va='bottom')\n",
    "\n",
    "    ax.set_xlabel(\"University program\")\n",
    "    ax.set_ylabel(f\"# of players to reach NBA\")\n",
    "    ax.set_title(f\"Top {num} basketball programs between {from_year}-{to_year}\",fontsize=17, pad=20)\n",
    "    plt.xticks(rotation=80)\n",
    "    \n",
    "    plt.show()"
   ]
  },
  {
   "cell_type": "code",
   "execution_count": 19,
   "id": "ddd416ae-3cb3-43ad-9d7a-81e01b45f965",
   "metadata": {},
   "outputs": [
    {
     "name": "stdout",
     "output_type": "stream",
     "text": [
      "school\n",
      "Kentucky             53\n",
      "Duke                 50\n",
      "Kansas               39\n",
      "UCLA                 30\n",
      "North Carolina       25\n",
      "                     ..\n",
      "Stephen F. Austin     1\n",
      "Ratiopharm Ulm        1\n",
      "Miami (FL)            1\n",
      "Texas-Arlington       1\n",
      "Darussafaka           1\n",
      "Name: count, Length: 360, dtype: int64\n"
     ]
    },
    {
     "data": {
      "image/png": "[encoded data removed]",
      "text/plain": [
       "<Figure size 640x480 with 1 Axes>"
      ]
     },
     "metadata": {},
     "output_type": "display_data"
    }
   ],
   "source": [
    "top_programs(player_info, 10, 2002, 2022)"
   ]
  },
  {
   "cell_type": "code",
   "execution_count": 23,
   "id": "ba5b4148-7006-4119-9b0f-e0253b029970",
   "metadata": {},
   "outputs": [],
   "source": [
    "def top_programs_sns(df, num, from_year, to_year):\n",
    "    #plt.style.use('fivethirtyeight')\n",
    "    plt.style.use('seaborn-v0_8-whitegrid')\n",
    "    \n",
    "    #Limpieza y segementación de los datos\n",
    "    players = df[[\"school\", \"country\", \"display_first_last\",\"nba_flag\", \"from_year\"]]\n",
    "    players = df.query(\"nba_flag == 'Y'\")\n",
    "    players = df.query(\"from_year >= @from_year and from_year <= @to_year\")\n",
    "\n",
    "    #Número de escuelas que deseamos tomar\n",
    "    school_num = players.groupby(\"school\").size().sort_values(ascending=False)[0:num]\n",
    "    top_schools = list(school_num.index)\n",
    "    sns.countplot(x=\"school\", data=players)\n",
    "    plt.show()"
   ]
  },
  {
   "cell_type": "code",
   "execution_count": 24,
   "id": "3a0ef678-2231-471a-9b38-47b932c29dd7",
   "metadata": {},
   "outputs": [
    {
     "data": {
      "image/png": "[encoded data removed]",
      "text/plain": [
       "<Figure size 640x480 with 1 Axes>"
      ]
     },
     "metadata": {},
     "output_type": "display_data"
    }
   ],
   "source": [
    "top_programs_sns(player_info, 10, 2002, 2022)"
   ]
  },
  {
   "cell_type": "code",
   "execution_count": null,
   "id": "a3766fe3-6594-40dd-8837-eb5c0e0e11f2",
   "metadata": {},
   "outputs": [],
   "source": []
  }
 ],
 "metadata": {
  "kernelspec": {
   "display_name": "Python (prinvenv)",
   "language": "python",
   "name": "myenv"
  },
  "language_info": {
   "codemirror_mode": {
    "name": "ipython",
    "version": 3
   },
   "file_extension": ".py",
   "mimetype": "text/x-python",
   "name": "python",
   "nbconvert_exporter": "python",
   "pygments_lexer": "ipython3",
   "version": "3.13.0"
  }
 },
 "nbformat": 4,
 "nbformat_minor": 5
}
